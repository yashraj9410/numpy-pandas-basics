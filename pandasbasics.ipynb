{
 "cells": [
  {
   "cell_type": "markdown",
   "id": "1f2aff12",
   "metadata": {
    "papermill": {
     "duration": 0.011118,
     "end_time": "2024-01-28T11:08:14.225609",
     "exception": false,
     "start_time": "2024-01-28T11:08:14.214491",
     "status": "completed"
    },
    "tags": []
   },
   "source": [
    "# Pandas Library \n",
    "\n",
    "Pandas is a powerful open-source data manipulation and analysis library for Python. It provides data structures for efficiently storing and manipulating large datasets, along with tools for working with structured data. The primary data structures in Pandas are Series and DataFrame.\n",
    "\n",
    "Some functionalities : \n",
    "\n",
    "Series:\n",
    "\n",
    "A one-dimensional labeled array capable of holding any data type.\n",
    "Can be thought of as a column in a spreadsheet or a simple dataset.\n",
    "Similar to a NumPy array but with an associated labeled index.\n",
    "\n",
    "DataFrame:\n",
    "\n",
    "A two-dimensional table with rows and columns, similar to a spreadsheet or SQL table.\n",
    "Each column in a DataFrame is a Series.\n",
    "\n",
    "-------------------------------------------------------------------------------------------\n",
    "\n",
    "**Comparison with NumPy:**\n",
    "\n",
    "Data Structures:\n",
    "\n",
    "NumPy primarily provides support for multi-dimensional arrays (ndarrays).\n",
    "Pandas introduces higher-level data structures like Series and DataFrame, built on top of NumPy arrays.\n",
    "\n",
    "Indexing:\n",
    "\n",
    "NumPy arrays are implicitly indexed.\n",
    "Pandas provides explicit indexes with labels, making it more suitable for labeled data.\n",
    "\n",
    "Use Case:\n",
    "\n",
    "NumPy is more focused on numerical computing and mathematical operations on arrays.\n",
    "Pandas is designed for data manipulation and analysis, making it suitable for handling real-world datasets.**\n",
    "\n"
   ]
  },
  {
   "cell_type": "code",
   "execution_count": 1,
   "id": "7c50cdc5",
   "metadata": {
    "_cell_guid": "b1076dfc-b9ad-4769-8c92-a6c4dae69d19",
    "_uuid": "8f2839f25d086af736a60e9eeb907d3b93b6e0e5",
    "execution": {
     "iopub.execute_input": "2024-01-28T11:08:14.250298Z",
     "iopub.status.busy": "2024-01-28T11:08:14.249867Z",
     "iopub.status.idle": "2024-01-28T11:08:14.586341Z",
     "shell.execute_reply": "2024-01-28T11:08:14.585441Z"
    },
    "papermill": {
     "duration": 0.351262,
     "end_time": "2024-01-28T11:08:14.588436",
     "exception": false,
     "start_time": "2024-01-28T11:08:14.237174",
     "status": "completed"
    },
    "tags": []
   },
   "outputs": [
    {
     "name": "stdout",
     "output_type": "stream",
     "text": [
      "/kaggle/input/anime-tv-shows-dataset-2023/anime_data.csv\n"
     ]
    }
   ],
   "source": [
    "# This Python 3 environment comes with many helpful analytics libraries installed\n",
    "# It is defined by the kaggle/python Docker image: https://github.com/kaggle/docker-python\n",
    "# For example, here's several helpful packages to load\n",
    "\n",
    "import numpy as np # linear algebra\n",
    "import pandas as pd # data processing, CSV file I/O (e.g. pd.read_csv)\n",
    "\n",
    "# Input data files are available in the read-only \"../input/\" directory\n",
    "# For example, running this (by clicking run or pressing Shift+Enter) will list all files under the input directory\n",
    "\n",
    "import os\n",
    "for dirname, _, filenames in os.walk('/kaggle/input'):\n",
    "    for filename in filenames:\n",
    "        print(os.path.join(dirname, filename))\n",
    "\n",
    "# You can write up to 20GB to the current directory (/kaggle/working/) that gets preserved as output when you create a version using \"Save & Run All\" \n",
    "# You can also write temporary files to /kaggle/temp/, but they won't be saved outside of the current session"
   ]
  },
  {
   "cell_type": "markdown",
   "id": "5ec31272",
   "metadata": {
    "papermill": {
     "duration": 0.010362,
     "end_time": "2024-01-28T11:08:14.609695",
     "exception": false,
     "start_time": "2024-01-28T11:08:14.599333",
     "status": "completed"
    },
    "tags": []
   },
   "source": [
    "# Pandas Series Basics:\n",
    "\n",
    "A Pandas Series is a one-dimensional labeled array that can hold any data type. It is similar to a column in a spreadsheet or a single column in a DataFrame. Each element in a Series has a label, which is referred to as its index."
   ]
  },
  {
   "cell_type": "code",
   "execution_count": 2,
   "id": "79cb0f2a",
   "metadata": {
    "execution": {
     "iopub.execute_input": "2024-01-28T11:08:14.633602Z",
     "iopub.status.busy": "2024-01-28T11:08:14.633026Z",
     "iopub.status.idle": "2024-01-28T11:08:14.640813Z",
     "shell.execute_reply": "2024-01-28T11:08:14.639942Z"
    },
    "papermill": {
     "duration": 0.022288,
     "end_time": "2024-01-28T11:08:14.642753",
     "exception": false,
     "start_time": "2024-01-28T11:08:14.620465",
     "status": "completed"
    },
    "tags": []
   },
   "outputs": [
    {
     "name": "stdout",
     "output_type": "stream",
     "text": [
      "0    10\n",
      "1    20\n",
      "2    30\n",
      "3    40\n",
      "4    50\n",
      "dtype: int64\n"
     ]
    }
   ],
   "source": [
    "# Creating a Series from a list\n",
    "data = [10, 20, 30, 40, 50]\n",
    "series_1 = pd.Series(data)\n",
    "print(series_1)   # prints a single coloumn markes with the index value "
   ]
  },
  {
   "cell_type": "code",
   "execution_count": 3,
   "id": "e2c3c494",
   "metadata": {
    "execution": {
     "iopub.execute_input": "2024-01-28T11:08:14.668003Z",
     "iopub.status.busy": "2024-01-28T11:08:14.667362Z",
     "iopub.status.idle": "2024-01-28T11:08:14.673249Z",
     "shell.execute_reply": "2024-01-28T11:08:14.672450Z"
    },
    "papermill": {
     "duration": 0.02139,
     "end_time": "2024-01-28T11:08:14.675784",
     "exception": false,
     "start_time": "2024-01-28T11:08:14.654394",
     "status": "completed"
    },
    "tags": []
   },
   "outputs": [
    {
     "name": "stdout",
     "output_type": "stream",
     "text": [
      "a    10\n",
      "b    20\n",
      "c    30\n",
      "d    40\n",
      "e    50\n",
      "dtype: int64\n"
     ]
    }
   ],
   "source": [
    "# Creating a Series with custom index\n",
    "data = [10, 20, 30, 40, 50]\n",
    "index = ['a', 'b', 'c', 'd', 'e']\n",
    "series_2 = pd.Series(data, index=index)\n",
    "print(series_2)"
   ]
  },
  {
   "cell_type": "code",
   "execution_count": 4,
   "id": "2ced0549",
   "metadata": {
    "execution": {
     "iopub.execute_input": "2024-01-28T11:08:14.701253Z",
     "iopub.status.busy": "2024-01-28T11:08:14.700552Z",
     "iopub.status.idle": "2024-01-28T11:08:14.710179Z",
     "shell.execute_reply": "2024-01-28T11:08:14.709538Z"
    },
    "papermill": {
     "duration": 0.024475,
     "end_time": "2024-01-28T11:08:14.712197",
     "exception": false,
     "start_time": "2024-01-28T11:08:14.687722",
     "status": "completed"
    },
    "tags": []
   },
   "outputs": [
    {
     "name": "stdout",
     "output_type": "stream",
     "text": [
      "30\n",
      "10\n"
     ]
    }
   ],
   "source": [
    "# Accessing elements by index\n",
    "print(series_2['c'])  # Output: 30    # this is out custom indexing \n",
    "print(series_2[0])     # Output: 20   # this is the default 1D array indexing "
   ]
  },
  {
   "cell_type": "code",
   "execution_count": 5,
   "id": "adc187f1",
   "metadata": {
    "execution": {
     "iopub.execute_input": "2024-01-28T11:08:14.736319Z",
     "iopub.status.busy": "2024-01-28T11:08:14.735787Z",
     "iopub.status.idle": "2024-01-28T11:08:14.744664Z",
     "shell.execute_reply": "2024-01-28T11:08:14.743434Z"
    },
    "papermill": {
     "duration": 0.023611,
     "end_time": "2024-01-28T11:08:14.746847",
     "exception": false,
     "start_time": "2024-01-28T11:08:14.723236",
     "status": "completed"
    },
    "tags": []
   },
   "outputs": [
    {
     "name": "stdout",
     "output_type": "stream",
     "text": [
      "0     6\n",
      "1     8\n",
      "2    10\n",
      "3    12\n",
      "dtype: int64\n"
     ]
    }
   ],
   "source": [
    "# Performing operations on Series\n",
    "series_3 = pd.Series([1, 2, 3, 4])\n",
    "series_4 = pd.Series([5,6,7,8])     # if index are not being matched than in that case we get Output as NaN ie Not a Number \n",
    "series_sum = series_4 + series_3\n",
    "print(series_sum)"
   ]
  },
  {
   "cell_type": "code",
   "execution_count": 6,
   "id": "e52c60d6",
   "metadata": {
    "execution": {
     "iopub.execute_input": "2024-01-28T11:08:14.772558Z",
     "iopub.status.busy": "2024-01-28T11:08:14.772145Z",
     "iopub.status.idle": "2024-01-28T11:08:14.791682Z",
     "shell.execute_reply": "2024-01-28T11:08:14.790433Z"
    },
    "papermill": {
     "duration": 0.034443,
     "end_time": "2024-01-28T11:08:14.793340",
     "exception": false,
     "start_time": "2024-01-28T11:08:14.758897",
     "status": "completed"
    },
    "tags": []
   },
   "outputs": [
    {
     "name": "stdout",
     "output_type": "stream",
     "text": [
      "a   NaN\n",
      "b   NaN\n",
      "c   NaN\n",
      "d   NaN\n",
      "e   NaN\n",
      "0   NaN\n",
      "1   NaN\n",
      "2   NaN\n",
      "3   NaN\n",
      "dtype: float64\n"
     ]
    }
   ],
   "source": [
    "# Performing operations on Series\n",
    "series_3 = pd.Series([1, 2, 3, 4])     # if index are not being matched than in that case we get Output as NaN ie Not a Number \n",
    "series_sum = series_2 + series_3\n",
    "print(series_sum)"
   ]
  },
  {
   "cell_type": "markdown",
   "id": "17bf1fce",
   "metadata": {
    "papermill": {
     "duration": 0.010499,
     "end_time": "2024-01-28T11:08:14.814974",
     "exception": false,
     "start_time": "2024-01-28T11:08:14.804475",
     "status": "completed"
    },
    "tags": []
   },
   "source": [
    "****The fillna() function in Pandas is used to fill missing (NaN) values with a specified value or a set of values. It's a versatile method that allows you to replace NaN values in a Series or DataFrame with a constant value, a calculated value, or values from another Series or DataFrame.****"
   ]
  },
  {
   "cell_type": "code",
   "execution_count": 7,
   "id": "53b93644",
   "metadata": {
    "execution": {
     "iopub.execute_input": "2024-01-28T11:08:14.840470Z",
     "iopub.status.busy": "2024-01-28T11:08:14.839852Z",
     "iopub.status.idle": "2024-01-28T11:08:14.846614Z",
     "shell.execute_reply": "2024-01-28T11:08:14.845252Z"
    },
    "papermill": {
     "duration": 0.022368,
     "end_time": "2024-01-28T11:08:14.848333",
     "exception": false,
     "start_time": "2024-01-28T11:08:14.825965",
     "status": "completed"
    },
    "tags": []
   },
   "outputs": [
    {
     "name": "stdout",
     "output_type": "stream",
     "text": [
      "0     6\n",
      "1     8\n",
      "2    10\n",
      "3    12\n",
      "dtype: int64\n"
     ]
    }
   ],
   "source": [
    "# Convert the resulting Series to int after the addition and replace NaN with 0\n",
    "series_sum = (series_4 + series_3).fillna(0).astype(int)\n",
    "print(series_sum)"
   ]
  },
  {
   "cell_type": "code",
   "execution_count": 8,
   "id": "a9b2fb9a",
   "metadata": {
    "execution": {
     "iopub.execute_input": "2024-01-28T11:08:14.948450Z",
     "iopub.status.busy": "2024-01-28T11:08:14.947853Z",
     "iopub.status.idle": "2024-01-28T11:08:14.956530Z",
     "shell.execute_reply": "2024-01-28T11:08:14.954804Z"
    },
    "papermill": {
     "duration": 0.100007,
     "end_time": "2024-01-28T11:08:14.959303",
     "exception": false,
     "start_time": "2024-01-28T11:08:14.859296",
     "status": "completed"
    },
    "tags": []
   },
   "outputs": [
    {
     "name": "stdout",
     "output_type": "stream",
     "text": [
      "a    0\n",
      "b    0\n",
      "c    0\n",
      "d    0\n",
      "e    0\n",
      "0    0\n",
      "1    0\n",
      "2    0\n",
      "3    0\n",
      "dtype: int64\n"
     ]
    }
   ],
   "source": [
    "series_3 = pd.Series([1, 2, 3, 4])     # if index are not being matched than in that case we get Output as NaN ie Not a Number \n",
    "series_sum = (series_2 + series_3).fillna(0).astype(int)\n",
    "print(series_sum)"
   ]
  },
  {
   "cell_type": "code",
   "execution_count": 9,
   "id": "d45e6d1d",
   "metadata": {
    "execution": {
     "iopub.execute_input": "2024-01-28T11:08:14.983060Z",
     "iopub.status.busy": "2024-01-28T11:08:14.982700Z",
     "iopub.status.idle": "2024-01-28T11:08:14.988983Z",
     "shell.execute_reply": "2024-01-28T11:08:14.987484Z"
    },
    "papermill": {
     "duration": 0.019953,
     "end_time": "2024-01-28T11:08:14.990692",
     "exception": false,
     "start_time": "2024-01-28T11:08:14.970739",
     "status": "completed"
    },
    "tags": []
   },
   "outputs": [
    {
     "name": "stdout",
     "output_type": "stream",
     "text": [
      "vec1     Car\n",
      "vec2    Boat\n",
      "vec3    Bike\n",
      "dtype: object\n"
     ]
    }
   ],
   "source": [
    "vec = [\"Car\",\"Boat\" ,\"Bike\"]  # Python List to series \n",
    "index = [\"vec1\",\"vec2\",\"vec3\"]\n",
    "ser = pd.Series(vec , index = index)\n",
    "print(ser)"
   ]
  },
  {
   "cell_type": "markdown",
   "id": "1879ba4c",
   "metadata": {
    "papermill": {
     "duration": 0.011297,
     "end_time": "2024-01-28T11:08:15.013311",
     "exception": false,
     "start_time": "2024-01-28T11:08:15.002014",
     "status": "completed"
    },
    "tags": []
   },
   "source": [
    "# DataFrame in Pandas:\n",
    "\n",
    "A DataFrame is a two-dimensional labeled data structure with columns that can be of different data types. It is similar to a spreadsheet or SQL table, where data is arranged in rows and columns. In a DataFrame, each column is a Pandas Series, and the columns share a common index.\n",
    "\n",
    "**Creating a DataFrame:**\n",
    "\n",
    "You can create a DataFrame using various methods, such as from a dictionary, from a NumPy array, or by reading data from external sources like CSV files.\n",
    "\n",
    "****Syntax****\n",
    "\n",
    "> pd.DataFrame(data=None, index=None, columns=None, dtype=None, copy=False)\n",
    "\n",
    "data: The data for the DataFrame. This can be a dictionary, a 2D array (list of lists), a Series, or another DataFrame.\n",
    "\n",
    "index: The row labels (index) for the DataFrame. If not specified, default integer indices are used.\n",
    "\n",
    "columns: The column labels for the DataFrame. If not specified, default integer columns are used.\n",
    "\n",
    "dtype: Data type to force. If specified, the entire DataFrame will be cast to that data type.\n",
    "\n",
    "copy: Copy data from inputs. Default is False.\n",
    "\n"
   ]
  },
  {
   "cell_type": "code",
   "execution_count": 10,
   "id": "7108852a",
   "metadata": {
    "execution": {
     "iopub.execute_input": "2024-01-28T11:08:15.037400Z",
     "iopub.status.busy": "2024-01-28T11:08:15.037019Z",
     "iopub.status.idle": "2024-01-28T11:08:15.049437Z",
     "shell.execute_reply": "2024-01-28T11:08:15.048555Z"
    },
    "papermill": {
     "duration": 0.026685,
     "end_time": "2024-01-28T11:08:15.051366",
     "exception": false,
     "start_time": "2024-01-28T11:08:15.024681",
     "status": "completed"
    },
    "tags": []
   },
   "outputs": [
    {
     "name": "stdout",
     "output_type": "stream",
     "text": [
      "      Name  Age           City\n",
      "0    Alice   25       New York\n",
      "1      Bob   30  San Francisco\n",
      "2  Charlie   35    Los Angeles\n"
     ]
    }
   ],
   "source": [
    "# Creating data from Dictionary\n",
    "data = {'Name': ['Alice', 'Bob', 'Charlie'],\n",
    "        'Age': [25, 30, 35],\n",
    "        'City': ['New York', 'San Francisco', 'Los Angeles']}\n",
    "\n",
    "df = pd.DataFrame(data)\n",
    "print(df)"
   ]
  },
  {
   "cell_type": "markdown",
   "id": "7df6190f",
   "metadata": {
    "papermill": {
     "duration": 0.011785,
     "end_time": "2024-01-28T11:08:15.075557",
     "exception": false,
     "start_time": "2024-01-28T11:08:15.063772",
     "status": "completed"
    },
    "tags": []
   },
   "source": [
    "****Specifying Custom Index and Columns****"
   ]
  },
  {
   "cell_type": "code",
   "execution_count": 11,
   "id": "f266bb02",
   "metadata": {
    "execution": {
     "iopub.execute_input": "2024-01-28T11:08:15.101153Z",
     "iopub.status.busy": "2024-01-28T11:08:15.100767Z",
     "iopub.status.idle": "2024-01-28T11:08:15.109456Z",
     "shell.execute_reply": "2024-01-28T11:08:15.108687Z"
    },
    "papermill": {
     "duration": 0.023838,
     "end_time": "2024-01-28T11:08:15.111461",
     "exception": false,
     "start_time": "2024-01-28T11:08:15.087623",
     "status": "completed"
    },
    "tags": []
   },
   "outputs": [
    {
     "name": "stdout",
     "output_type": "stream",
     "text": [
      "        Name  Age\n",
      "id1    Alice   25\n",
      "id2      Bob   30\n",
      "id3  Charlie   35\n"
     ]
    }
   ],
   "source": [
    "\n",
    "df_custom = pd.DataFrame(data, index=['id1', 'id2','id3'], columns=['Name', 'Age'])\n",
    "print(df_custom)"
   ]
  },
  {
   "cell_type": "code",
   "execution_count": 12,
   "id": "0323a73a",
   "metadata": {
    "execution": {
     "iopub.execute_input": "2024-01-28T11:08:15.137067Z",
     "iopub.status.busy": "2024-01-28T11:08:15.136136Z",
     "iopub.status.idle": "2024-01-28T11:08:15.147856Z",
     "shell.execute_reply": "2024-01-28T11:08:15.146620Z"
    },
    "papermill": {
     "duration": 0.026746,
     "end_time": "2024-01-28T11:08:15.149974",
     "exception": false,
     "start_time": "2024-01-28T11:08:15.123228",
     "status": "completed"
    },
    "tags": []
   },
   "outputs": [
    {
     "name": "stdout",
     "output_type": "stream",
     "text": [
      "0      Alice\n",
      "1        Bob\n",
      "2    Charlie\n",
      "Name: Name, dtype: object\n",
      "\n",
      "      Name           City\n",
      "0    Alice       New York\n",
      "1      Bob  San Francisco\n",
      "2  Charlie    Los Angeles\n"
     ]
    }
   ],
   "source": [
    "# Accessing a single column\n",
    "print(df['Name'])\n",
    "\n",
    "print()\n",
    "# Accessing multiple columns\n",
    "print(df[['Name', 'City']])"
   ]
  },
  {
   "cell_type": "code",
   "execution_count": 13,
   "id": "3b217e05",
   "metadata": {
    "execution": {
     "iopub.execute_input": "2024-01-28T11:08:15.176371Z",
     "iopub.status.busy": "2024-01-28T11:08:15.175789Z",
     "iopub.status.idle": "2024-01-28T11:08:15.183804Z",
     "shell.execute_reply": "2024-01-28T11:08:15.182334Z"
    },
    "papermill": {
     "duration": 0.024278,
     "end_time": "2024-01-28T11:08:15.186329",
     "exception": false,
     "start_time": "2024-01-28T11:08:15.162051",
     "status": "completed"
    },
    "tags": []
   },
   "outputs": [
    {
     "name": "stdout",
     "output_type": "stream",
     "text": [
      "      Name  Age           City  Salary\n",
      "0    Alice   25       New York   50000\n",
      "1      Bob   30  San Francisco   60000\n",
      "2  Charlie   35    Los Angeles   70000\n"
     ]
    }
   ],
   "source": [
    "#Add a new col\n",
    "df['Salary'] = [50000, 60000, 70000]\n",
    "print(df)\n"
   ]
  },
  {
   "cell_type": "code",
   "execution_count": 14,
   "id": "4b280ee5",
   "metadata": {
    "execution": {
     "iopub.execute_input": "2024-01-28T11:08:15.212156Z",
     "iopub.status.busy": "2024-01-28T11:08:15.211489Z",
     "iopub.status.idle": "2024-01-28T11:08:15.219587Z",
     "shell.execute_reply": "2024-01-28T11:08:15.218173Z"
    },
    "papermill": {
     "duration": 0.023584,
     "end_time": "2024-01-28T11:08:15.222215",
     "exception": false,
     "start_time": "2024-01-28T11:08:15.198631",
     "status": "completed"
    },
    "tags": []
   },
   "outputs": [
    {
     "name": "stdout",
     "output_type": "stream",
     "text": [
      "      Name  Age         City  Salary\n",
      "2  Charlie   35  Los Angeles   70000\n"
     ]
    }
   ],
   "source": [
    "# Filtering based on a condition\n",
    "filtered_df = df[df['Age'] > 30]\n",
    "print(filtered_df)"
   ]
  },
  {
   "cell_type": "code",
   "execution_count": 15,
   "id": "f0681a6b",
   "metadata": {
    "execution": {
     "iopub.execute_input": "2024-01-28T11:08:15.249529Z",
     "iopub.status.busy": "2024-01-28T11:08:15.248847Z",
     "iopub.status.idle": "2024-01-28T11:08:15.256336Z",
     "shell.execute_reply": "2024-01-28T11:08:15.255068Z"
    },
    "papermill": {
     "duration": 0.024187,
     "end_time": "2024-01-28T11:08:15.258932",
     "exception": false,
     "start_time": "2024-01-28T11:08:15.234745",
     "status": "completed"
    },
    "tags": []
   },
   "outputs": [
    {
     "name": "stdout",
     "output_type": "stream",
     "text": [
      "  veichle  count\n",
      "0    Boat      1\n",
      "1     car      2\n",
      "2    bike      3\n"
     ]
    }
   ],
   "source": [
    "myData = [('Boat',1),('car',2),('bike',3)]\n",
    "myData_Frame = pd.DataFrame(myData , columns = [\"veichle\",\"count\"])\n",
    "print(myData_Frame)"
   ]
  },
  {
   "cell_type": "code",
   "execution_count": 16,
   "id": "020a9df6",
   "metadata": {
    "execution": {
     "iopub.execute_input": "2024-01-28T11:08:15.286528Z",
     "iopub.status.busy": "2024-01-28T11:08:15.285133Z",
     "iopub.status.idle": "2024-01-28T11:08:15.294251Z",
     "shell.execute_reply": "2024-01-28T11:08:15.293437Z"
    },
    "papermill": {
     "duration": 0.023759,
     "end_time": "2024-01-28T11:08:15.296031",
     "exception": false,
     "start_time": "2024-01-28T11:08:15.272272",
     "status": "completed"
    },
    "tags": []
   },
   "outputs": [
    {
     "data": {
      "text/plain": [
       "veichle    object\n",
       "count       int64\n",
       "dtype: object"
      ]
     },
     "execution_count": 16,
     "metadata": {},
     "output_type": "execute_result"
    }
   ],
   "source": [
    "# check all datatypes \n",
    "myData_Frame.dtypes\n",
    "# note objects in pandas are also used to denote strings "
   ]
  },
  {
   "cell_type": "markdown",
   "id": "c5c83bd1",
   "metadata": {
    "papermill": {
     "duration": 0.012239,
     "end_time": "2024-01-28T11:08:15.321759",
     "exception": false,
     "start_time": "2024-01-28T11:08:15.309520",
     "status": "completed"
    },
    "tags": []
   },
   "source": [
    "# Importing datasets as dataframe in pandas (csv)\n",
    "\n",
    "CSV stands for Comma-Separated Values. It is a plain text file format that uses a simple structure to store tabular data (data in rows and columns). In a CSV file, each line represents a row of data, and the values within each row are separated by commas. The first row often contains headers, which describe the contents of each column.\n",
    "\n",
    "e.g\n",
    "\n",
    "Name, Age, City\n",
    "John, 25, New York\n",
    "Alice, 30, San Francisco\n",
    "Bob, 28, Chicago\n",
    "\n",
    "\n",
    "While Excel and other spreadsheet programs are valuable tools for data analysis and visualization, CSV is preferred in data science workflows due to its simplicity, compatibility, and ease of integration with programming languages and tools commonly used in the field. Additionally, CSV files are more suited for automated processing and scripting, which is a common requirement in data science pipelines."
   ]
  },
  {
   "cell_type": "markdown",
   "id": "14266ea9",
   "metadata": {
    "papermill": {
     "duration": 0.01269,
     "end_time": "2024-01-28T11:08:15.346942",
     "exception": false,
     "start_time": "2024-01-28T11:08:15.334252",
     "status": "completed"
    },
    "tags": []
   },
   "source": [
    "**For Jupyter User**\n",
    "\n",
    "import pandas as pd\n",
    "\n",
    "Replace 'your_file.csv' with the actual file path or URL of your CSV file\n",
    "file_path = 'your_file.csv'  file path is like C\\user\\abc\\document\\file_name\n",
    "\n",
    " Use the read_csv() function to import the dataset into a DataFrame\n",
    "df = pd.read_csv(file_path)\n",
    "\n",
    "Display the first few rows of the DataFrame to inspect the data\n",
    "df.head()\n",
    "\n",
    "Good to go !"
   ]
  },
  {
   "cell_type": "markdown",
   "id": "7e8ff69a",
   "metadata": {
    "papermill": {
     "duration": 0.012029,
     "end_time": "2024-01-28T11:08:15.371408",
     "exception": false,
     "start_time": "2024-01-28T11:08:15.359379",
     "status": "completed"
    },
    "tags": []
   },
   "source": [
    "# Importing a DataSet\n",
    "1. Go To File \n",
    "2. Add Data\n",
    "3. Search any csv dataset of your choice \n",
    "4. You will see a + icon to add a dataset \n",
    "5. click +   that means data has been added \n",
    "6. now check the data directory and file name \n",
    "7. copy the path and just paste it "
   ]
  },
  {
   "cell_type": "code",
   "execution_count": 17,
   "id": "92f8e014",
   "metadata": {
    "execution": {
     "iopub.execute_input": "2024-01-28T11:08:15.398453Z",
     "iopub.status.busy": "2024-01-28T11:08:15.397800Z",
     "iopub.status.idle": "2024-01-28T11:08:15.426570Z",
     "shell.execute_reply": "2024-01-28T11:08:15.425726Z"
    },
    "papermill": {
     "duration": 0.04505,
     "end_time": "2024-01-28T11:08:15.428991",
     "exception": false,
     "start_time": "2024-01-28T11:08:15.383941",
     "status": "completed"
    },
    "tags": []
   },
   "outputs": [],
   "source": [
    "df = pd.read_csv('../input/anime-tv-shows-dataset-2023/anime_data.csv')"
   ]
  },
  {
   "cell_type": "code",
   "execution_count": 18,
   "id": "4dcbbde8",
   "metadata": {
    "execution": {
     "iopub.execute_input": "2024-01-28T11:08:15.455761Z",
     "iopub.status.busy": "2024-01-28T11:08:15.455385Z",
     "iopub.status.idle": "2024-01-28T11:08:15.477268Z",
     "shell.execute_reply": "2024-01-28T11:08:15.475761Z"
    },
    "papermill": {
     "duration": 0.037588,
     "end_time": "2024-01-28T11:08:15.479277",
     "exception": false,
     "start_time": "2024-01-28T11:08:15.441689",
     "status": "completed"
    },
    "tags": []
   },
   "outputs": [
    {
     "name": "stdout",
     "output_type": "stream",
     "text": [
      "<class 'pandas.core.frame.DataFrame'>\n",
      "RangeIndex: 4700 entries, 0 to 4699\n",
      "Data columns (total 6 columns):\n",
      " #   Column      Non-Null Count  Dtype  \n",
      "---  ------      --------------  -----  \n",
      " 0   Unnamed: 0  4700 non-null   int64  \n",
      " 1   Name        4700 non-null   object \n",
      " 2   Episodes    4667 non-null   float64\n",
      " 3   Release     4700 non-null   object \n",
      " 4   Members     4700 non-null   int64  \n",
      " 5   Score       4692 non-null   float64\n",
      "dtypes: float64(2), int64(2), object(2)\n",
      "memory usage: 220.4+ KB\n"
     ]
    }
   ],
   "source": [
    "df.info()  # summarise the dataset "
   ]
  },
  {
   "cell_type": "markdown",
   "id": "231b2ad4",
   "metadata": {
    "papermill": {
     "duration": 0.012757,
     "end_time": "2024-01-28T11:08:15.504521",
     "exception": false,
     "start_time": "2024-01-28T11:08:15.491764",
     "status": "completed"
    },
    "tags": []
   },
   "source": [
    "head() and tail():\n",
    "\n",
    "df.head(): Returns the first 5 rows of the DataFrame.\n",
    "df.tail(): Returns the last 5 rows of the DataFrame."
   ]
  },
  {
   "cell_type": "code",
   "execution_count": 19,
   "id": "e2f2f5d6",
   "metadata": {
    "execution": {
     "iopub.execute_input": "2024-01-28T11:08:15.532985Z",
     "iopub.status.busy": "2024-01-28T11:08:15.532610Z",
     "iopub.status.idle": "2024-01-28T11:08:15.547746Z",
     "shell.execute_reply": "2024-01-28T11:08:15.546770Z"
    },
    "papermill": {
     "duration": 0.031678,
     "end_time": "2024-01-28T11:08:15.549870",
     "exception": false,
     "start_time": "2024-01-28T11:08:15.518192",
     "status": "completed"
    },
    "tags": []
   },
   "outputs": [
    {
     "data": {
      "text/html": [
       "<div>\n",
       "<style scoped>\n",
       "    .dataframe tbody tr th:only-of-type {\n",
       "        vertical-align: middle;\n",
       "    }\n",
       "\n",
       "    .dataframe tbody tr th {\n",
       "        vertical-align: top;\n",
       "    }\n",
       "\n",
       "    .dataframe thead th {\n",
       "        text-align: right;\n",
       "    }\n",
       "</style>\n",
       "<table border=\"1\" class=\"dataframe\">\n",
       "  <thead>\n",
       "    <tr style=\"text-align: right;\">\n",
       "      <th></th>\n",
       "      <th>Unnamed: 0</th>\n",
       "      <th>Name</th>\n",
       "      <th>Episodes</th>\n",
       "      <th>Release</th>\n",
       "      <th>Members</th>\n",
       "      <th>Score</th>\n",
       "    </tr>\n",
       "  </thead>\n",
       "  <tbody>\n",
       "    <tr>\n",
       "      <th>0</th>\n",
       "      <td>0</td>\n",
       "      <td>Sousou no Frieren</td>\n",
       "      <td>28.0</td>\n",
       "      <td>Sep 2023 -</td>\n",
       "      <td>493571</td>\n",
       "      <td>9.13</td>\n",
       "    </tr>\n",
       "    <tr>\n",
       "      <th>1</th>\n",
       "      <td>1</td>\n",
       "      <td>Fullmetal Alchemist: Brotherhood</td>\n",
       "      <td>64.0</td>\n",
       "      <td>Apr 2009 - Jul 2010</td>\n",
       "      <td>3292928</td>\n",
       "      <td>9.09</td>\n",
       "    </tr>\n",
       "    <tr>\n",
       "      <th>2</th>\n",
       "      <td>2</td>\n",
       "      <td>Steins;Gate</td>\n",
       "      <td>24.0</td>\n",
       "      <td>Apr 2011 - Sep 2011</td>\n",
       "      <td>2526417</td>\n",
       "      <td>9.07</td>\n",
       "    </tr>\n",
       "    <tr>\n",
       "      <th>3</th>\n",
       "      <td>3</td>\n",
       "      <td>Gintama°</td>\n",
       "      <td>51.0</td>\n",
       "      <td>Apr 2015 - Mar 2016</td>\n",
       "      <td>620676</td>\n",
       "      <td>9.06</td>\n",
       "    </tr>\n",
       "    <tr>\n",
       "      <th>4</th>\n",
       "      <td>4</td>\n",
       "      <td>Shingeki no Kyojin Season 3 Part 2</td>\n",
       "      <td>10.0</td>\n",
       "      <td>Apr 2019 - Jul 2019</td>\n",
       "      <td>2227792</td>\n",
       "      <td>9.05</td>\n",
       "    </tr>\n",
       "  </tbody>\n",
       "</table>\n",
       "</div>"
      ],
      "text/plain": [
       "   Unnamed: 0                                Name  Episodes  \\\n",
       "0           0                   Sousou no Frieren      28.0   \n",
       "1           1    Fullmetal Alchemist: Brotherhood      64.0   \n",
       "2           2                         Steins;Gate      24.0   \n",
       "3           3                            Gintama°      51.0   \n",
       "4           4  Shingeki no Kyojin Season 3 Part 2      10.0   \n",
       "\n",
       "               Release  Members  Score  \n",
       "0           Sep 2023 -   493571   9.13  \n",
       "1  Apr 2009 - Jul 2010  3292928   9.09  \n",
       "2  Apr 2011 - Sep 2011  2526417   9.07  \n",
       "3  Apr 2015 - Mar 2016   620676   9.06  \n",
       "4  Apr 2019 - Jul 2019  2227792   9.05  "
      ]
     },
     "execution_count": 19,
     "metadata": {},
     "output_type": "execute_result"
    }
   ],
   "source": [
    "df.head() # First five"
   ]
  },
  {
   "cell_type": "code",
   "execution_count": 20,
   "id": "17f51135",
   "metadata": {
    "execution": {
     "iopub.execute_input": "2024-01-28T11:08:15.575772Z",
     "iopub.status.busy": "2024-01-28T11:08:15.575330Z",
     "iopub.status.idle": "2024-01-28T11:08:15.587668Z",
     "shell.execute_reply": "2024-01-28T11:08:15.586804Z"
    },
    "papermill": {
     "duration": 0.027278,
     "end_time": "2024-01-28T11:08:15.589424",
     "exception": false,
     "start_time": "2024-01-28T11:08:15.562146",
     "status": "completed"
    },
    "tags": []
   },
   "outputs": [
    {
     "data": {
      "text/html": [
       "<div>\n",
       "<style scoped>\n",
       "    .dataframe tbody tr th:only-of-type {\n",
       "        vertical-align: middle;\n",
       "    }\n",
       "\n",
       "    .dataframe tbody tr th {\n",
       "        vertical-align: top;\n",
       "    }\n",
       "\n",
       "    .dataframe thead th {\n",
       "        text-align: right;\n",
       "    }\n",
       "</style>\n",
       "<table border=\"1\" class=\"dataframe\">\n",
       "  <thead>\n",
       "    <tr style=\"text-align: right;\">\n",
       "      <th></th>\n",
       "      <th>Unnamed: 0</th>\n",
       "      <th>Name</th>\n",
       "      <th>Episodes</th>\n",
       "      <th>Release</th>\n",
       "      <th>Members</th>\n",
       "      <th>Score</th>\n",
       "    </tr>\n",
       "  </thead>\n",
       "  <tbody>\n",
       "    <tr>\n",
       "      <th>4695</th>\n",
       "      <td>4695</td>\n",
       "      <td>Shounen Santa no Daibouken!</td>\n",
       "      <td>24.0</td>\n",
       "      <td>Apr 1996 - Sep 1996</td>\n",
       "      <td>482</td>\n",
       "      <td>NaN</td>\n",
       "    </tr>\n",
       "    <tr>\n",
       "      <th>4696</th>\n",
       "      <td>4696</td>\n",
       "      <td>Shounen Tokugawa Ieyasu</td>\n",
       "      <td>20.0</td>\n",
       "      <td>Apr 1975 - Sep 1975</td>\n",
       "      <td>636</td>\n",
       "      <td>NaN</td>\n",
       "    </tr>\n",
       "    <tr>\n",
       "      <th>4697</th>\n",
       "      <td>4697</td>\n",
       "      <td>Shouwang Zhengfeng</td>\n",
       "      <td>26.0</td>\n",
       "      <td>Nov 2016 - Dec 2016</td>\n",
       "      <td>88</td>\n",
       "      <td>NaN</td>\n",
       "    </tr>\n",
       "    <tr>\n",
       "      <th>4698</th>\n",
       "      <td>4698</td>\n",
       "      <td>Shouwang Zhengfeng Shen Jiang Zhi Nu</td>\n",
       "      <td>26.0</td>\n",
       "      <td>-</td>\n",
       "      <td>47</td>\n",
       "      <td>NaN</td>\n",
       "    </tr>\n",
       "    <tr>\n",
       "      <th>4699</th>\n",
       "      <td>4699</td>\n",
       "      <td>Shouwang Zhengfeng: Yuanshi Zhi Li</td>\n",
       "      <td>26.0</td>\n",
       "      <td>2017 -</td>\n",
       "      <td>59</td>\n",
       "      <td>NaN</td>\n",
       "    </tr>\n",
       "  </tbody>\n",
       "</table>\n",
       "</div>"
      ],
      "text/plain": [
       "      Unnamed: 0                                  Name  Episodes  \\\n",
       "4695        4695           Shounen Santa no Daibouken!      24.0   \n",
       "4696        4696               Shounen Tokugawa Ieyasu      20.0   \n",
       "4697        4697                    Shouwang Zhengfeng      26.0   \n",
       "4698        4698  Shouwang Zhengfeng Shen Jiang Zhi Nu      26.0   \n",
       "4699        4699    Shouwang Zhengfeng: Yuanshi Zhi Li      26.0   \n",
       "\n",
       "                  Release  Members  Score  \n",
       "4695  Apr 1996 - Sep 1996      482    NaN  \n",
       "4696  Apr 1975 - Sep 1975      636    NaN  \n",
       "4697  Nov 2016 - Dec 2016       88    NaN  \n",
       "4698                    -       47    NaN  \n",
       "4699               2017 -       59    NaN  "
      ]
     },
     "execution_count": 20,
     "metadata": {},
     "output_type": "execute_result"
    }
   ],
   "source": [
    "df.tail() # last five "
   ]
  },
  {
   "cell_type": "markdown",
   "id": "ee8d66ea",
   "metadata": {
    "papermill": {
     "duration": 0.011999,
     "end_time": "2024-01-28T11:08:15.614056",
     "exception": false,
     "start_time": "2024-01-28T11:08:15.602057",
     "status": "completed"
    },
    "tags": []
   },
   "source": [
    "describe():\n",
    "\n",
    "df.describe(): Generates descriptive statistics of the numerical columns, such as mean, standard deviation, minimum, maximum, etc."
   ]
  },
  {
   "cell_type": "code",
   "execution_count": 21,
   "id": "d361743c",
   "metadata": {
    "execution": {
     "iopub.execute_input": "2024-01-28T11:08:15.639664Z",
     "iopub.status.busy": "2024-01-28T11:08:15.638978Z",
     "iopub.status.idle": "2024-01-28T11:08:15.665194Z",
     "shell.execute_reply": "2024-01-28T11:08:15.664191Z"
    },
    "papermill": {
     "duration": 0.041773,
     "end_time": "2024-01-28T11:08:15.667598",
     "exception": false,
     "start_time": "2024-01-28T11:08:15.625825",
     "status": "completed"
    },
    "tags": []
   },
   "outputs": [
    {
     "data": {
      "text/html": [
       "<div>\n",
       "<style scoped>\n",
       "    .dataframe tbody tr th:only-of-type {\n",
       "        vertical-align: middle;\n",
       "    }\n",
       "\n",
       "    .dataframe tbody tr th {\n",
       "        vertical-align: top;\n",
       "    }\n",
       "\n",
       "    .dataframe thead th {\n",
       "        text-align: right;\n",
       "    }\n",
       "</style>\n",
       "<table border=\"1\" class=\"dataframe\">\n",
       "  <thead>\n",
       "    <tr style=\"text-align: right;\">\n",
       "      <th></th>\n",
       "      <th>Unnamed: 0</th>\n",
       "      <th>Episodes</th>\n",
       "      <th>Members</th>\n",
       "      <th>Score</th>\n",
       "    </tr>\n",
       "  </thead>\n",
       "  <tbody>\n",
       "    <tr>\n",
       "      <th>count</th>\n",
       "      <td>4700.000000</td>\n",
       "      <td>4667.000000</td>\n",
       "      <td>4.700000e+03</td>\n",
       "      <td>4692.000000</td>\n",
       "    </tr>\n",
       "    <tr>\n",
       "      <th>mean</th>\n",
       "      <td>2349.500000</td>\n",
       "      <td>31.027641</td>\n",
       "      <td>1.571094e+05</td>\n",
       "      <td>6.854723</td>\n",
       "    </tr>\n",
       "    <tr>\n",
       "      <th>std</th>\n",
       "      <td>1356.917462</td>\n",
       "      <td>84.787108</td>\n",
       "      <td>3.323587e+05</td>\n",
       "      <td>0.811294</td>\n",
       "    </tr>\n",
       "    <tr>\n",
       "      <th>min</th>\n",
       "      <td>0.000000</td>\n",
       "      <td>2.000000</td>\n",
       "      <td>4.500000e+01</td>\n",
       "      <td>2.900000</td>\n",
       "    </tr>\n",
       "    <tr>\n",
       "      <th>25%</th>\n",
       "      <td>1174.750000</td>\n",
       "      <td>12.000000</td>\n",
       "      <td>4.983250e+03</td>\n",
       "      <td>6.320000</td>\n",
       "    </tr>\n",
       "    <tr>\n",
       "      <th>50%</th>\n",
       "      <td>2349.500000</td>\n",
       "      <td>13.000000</td>\n",
       "      <td>3.281950e+04</td>\n",
       "      <td>6.870000</td>\n",
       "    </tr>\n",
       "    <tr>\n",
       "      <th>75%</th>\n",
       "      <td>3524.250000</td>\n",
       "      <td>26.000000</td>\n",
       "      <td>1.530508e+05</td>\n",
       "      <td>7.390000</td>\n",
       "    </tr>\n",
       "    <tr>\n",
       "      <th>max</th>\n",
       "      <td>4699.000000</td>\n",
       "      <td>3057.000000</td>\n",
       "      <td>3.884680e+06</td>\n",
       "      <td>9.130000</td>\n",
       "    </tr>\n",
       "  </tbody>\n",
       "</table>\n",
       "</div>"
      ],
      "text/plain": [
       "        Unnamed: 0     Episodes       Members        Score\n",
       "count  4700.000000  4667.000000  4.700000e+03  4692.000000\n",
       "mean   2349.500000    31.027641  1.571094e+05     6.854723\n",
       "std    1356.917462    84.787108  3.323587e+05     0.811294\n",
       "min       0.000000     2.000000  4.500000e+01     2.900000\n",
       "25%    1174.750000    12.000000  4.983250e+03     6.320000\n",
       "50%    2349.500000    13.000000  3.281950e+04     6.870000\n",
       "75%    3524.250000    26.000000  1.530508e+05     7.390000\n",
       "max    4699.000000  3057.000000  3.884680e+06     9.130000"
      ]
     },
     "execution_count": 21,
     "metadata": {},
     "output_type": "execute_result"
    }
   ],
   "source": [
    "df.describe()  # provides statistical analysyis"
   ]
  },
  {
   "cell_type": "markdown",
   "id": "b6248b0e",
   "metadata": {
    "papermill": {
     "duration": 0.012131,
     "end_time": "2024-01-28T11:08:15.692807",
     "exception": false,
     "start_time": "2024-01-28T11:08:15.680676",
     "status": "completed"
    },
    "tags": []
   },
   "source": [
    "shape:\n",
    "\n",
    "df.shape: Returns a tuple representing the dimensions (number of rows, number of columns) of the DataFrame."
   ]
  },
  {
   "cell_type": "code",
   "execution_count": 22,
   "id": "e7bfb87b",
   "metadata": {
    "execution": {
     "iopub.execute_input": "2024-01-28T11:08:15.720565Z",
     "iopub.status.busy": "2024-01-28T11:08:15.720122Z",
     "iopub.status.idle": "2024-01-28T11:08:15.727135Z",
     "shell.execute_reply": "2024-01-28T11:08:15.726353Z"
    },
    "papermill": {
     "duration": 0.023119,
     "end_time": "2024-01-28T11:08:15.728863",
     "exception": false,
     "start_time": "2024-01-28T11:08:15.705744",
     "status": "completed"
    },
    "tags": []
   },
   "outputs": [
    {
     "data": {
      "text/plain": [
       "Unnamed: 0      int64\n",
       "Name           object\n",
       "Episodes      float64\n",
       "Release        object\n",
       "Members         int64\n",
       "Score         float64\n",
       "dtype: object"
      ]
     },
     "execution_count": 22,
     "metadata": {},
     "output_type": "execute_result"
    }
   ],
   "source": [
    " df.dtypes   # provides datatype for each coloumn"
   ]
  },
  {
   "cell_type": "code",
   "execution_count": 23,
   "id": "2248b150",
   "metadata": {
    "execution": {
     "iopub.execute_input": "2024-01-28T11:08:15.756103Z",
     "iopub.status.busy": "2024-01-28T11:08:15.755731Z",
     "iopub.status.idle": "2024-01-28T11:08:15.762364Z",
     "shell.execute_reply": "2024-01-28T11:08:15.761223Z"
    },
    "papermill": {
     "duration": 0.022743,
     "end_time": "2024-01-28T11:08:15.764367",
     "exception": false,
     "start_time": "2024-01-28T11:08:15.741624",
     "status": "completed"
    },
    "tags": []
   },
   "outputs": [
    {
     "data": {
      "text/plain": [
       "(4700, 6)"
      ]
     },
     "execution_count": 23,
     "metadata": {},
     "output_type": "execute_result"
    }
   ],
   "source": [
    "df.shape"
   ]
  },
  {
   "cell_type": "markdown",
   "id": "6ae71ddb",
   "metadata": {
    "papermill": {
     "duration": 0.012688,
     "end_time": "2024-01-28T11:08:15.791970",
     "exception": false,
     "start_time": "2024-01-28T11:08:15.779282",
     "status": "completed"
    },
    "tags": []
   },
   "source": [
    "columns:\n",
    "\n",
    "df.columns: Returns a list of column names in the DataFrame."
   ]
  },
  {
   "cell_type": "markdown",
   "id": "a1b3e33c",
   "metadata": {
    "papermill": {
     "duration": 0.011937,
     "end_time": "2024-01-28T11:08:15.816403",
     "exception": false,
     "start_time": "2024-01-28T11:08:15.804466",
     "status": "completed"
    },
    "tags": []
   },
   "source": [
    "The \"Unnamed: 0\" column that you see in your DataFrame likely represents the default index column that Pandas adds when reading a CSV file that already has an index column. "
   ]
  },
  {
   "cell_type": "code",
   "execution_count": 24,
   "id": "279640d0",
   "metadata": {
    "execution": {
     "iopub.execute_input": "2024-01-28T11:08:15.847186Z",
     "iopub.status.busy": "2024-01-28T11:08:15.845840Z",
     "iopub.status.idle": "2024-01-28T11:08:15.852953Z",
     "shell.execute_reply": "2024-01-28T11:08:15.852159Z"
    },
    "papermill": {
     "duration": 0.025286,
     "end_time": "2024-01-28T11:08:15.854752",
     "exception": false,
     "start_time": "2024-01-28T11:08:15.829466",
     "status": "completed"
    },
    "tags": []
   },
   "outputs": [
    {
     "data": {
      "text/plain": [
       "Index(['Unnamed: 0', 'Name', 'Episodes', 'Release', 'Members', 'Score'], dtype='object')"
      ]
     },
     "execution_count": 24,
     "metadata": {},
     "output_type": "execute_result"
    }
   ],
   "source": [
    "df.columns"
   ]
  },
  {
   "cell_type": "code",
   "execution_count": 25,
   "id": "994c6f28",
   "metadata": {
    "execution": {
     "iopub.execute_input": "2024-01-28T11:08:15.884057Z",
     "iopub.status.busy": "2024-01-28T11:08:15.882773Z",
     "iopub.status.idle": "2024-01-28T11:08:15.892125Z",
     "shell.execute_reply": "2024-01-28T11:08:15.890963Z"
    },
    "papermill": {
     "duration": 0.025753,
     "end_time": "2024-01-28T11:08:15.894036",
     "exception": false,
     "start_time": "2024-01-28T11:08:15.868283",
     "status": "completed"
    },
    "tags": []
   },
   "outputs": [
    {
     "data": {
      "text/plain": [
       "0    28.0\n",
       "1    64.0\n",
       "2    24.0\n",
       "3    51.0\n",
       "4    10.0\n",
       "Name: Episodes, dtype: float64"
      ]
     },
     "execution_count": 25,
     "metadata": {},
     "output_type": "execute_result"
    }
   ],
   "source": [
    "df['Episodes'].head()    # fetching particular column with coloumn name "
   ]
  },
  {
   "cell_type": "code",
   "execution_count": 26,
   "id": "6f34d29b",
   "metadata": {
    "execution": {
     "iopub.execute_input": "2024-01-28T11:08:15.921969Z",
     "iopub.status.busy": "2024-01-28T11:08:15.921577Z",
     "iopub.status.idle": "2024-01-28T11:08:15.930874Z",
     "shell.execute_reply": "2024-01-28T11:08:15.929811Z"
    },
    "papermill": {
     "duration": 0.025455,
     "end_time": "2024-01-28T11:08:15.932808",
     "exception": false,
     "start_time": "2024-01-28T11:08:15.907353",
     "status": "completed"
    },
    "tags": []
   },
   "outputs": [
    {
     "data": {
      "text/plain": [
       "0        True\n",
       "1        True\n",
       "2        True\n",
       "3        True\n",
       "4        True\n",
       "        ...  \n",
       "4695    False\n",
       "4696    False\n",
       "4697    False\n",
       "4698    False\n",
       "4699    False\n",
       "Name: Score, Length: 4700, dtype: bool"
      ]
     },
     "execution_count": 26,
     "metadata": {},
     "output_type": "execute_result"
    }
   ],
   "source": [
    "df['Score']>8    # returns boolean after matching certain coloumns "
   ]
  },
  {
   "cell_type": "code",
   "execution_count": 27,
   "id": "ed879095",
   "metadata": {
    "execution": {
     "iopub.execute_input": "2024-01-28T11:08:15.960617Z",
     "iopub.status.busy": "2024-01-28T11:08:15.960233Z",
     "iopub.status.idle": "2024-01-28T11:08:15.969389Z",
     "shell.execute_reply": "2024-01-28T11:08:15.968214Z"
    },
    "papermill": {
     "duration": 0.025621,
     "end_time": "2024-01-28T11:08:15.971768",
     "exception": false,
     "start_time": "2024-01-28T11:08:15.946147",
     "status": "completed"
    },
    "tags": []
   },
   "outputs": [
    {
     "data": {
      "text/plain": [
       "Score\n",
       "7.28    35\n",
       "7.15    34\n",
       "7.22    34\n",
       "7.16    33\n",
       "6.53    33\n",
       "        ..\n",
       "4.97     1\n",
       "4.95     1\n",
       "4.91     1\n",
       "4.89     1\n",
       "2.90     1\n",
       "Name: count, Length: 431, dtype: int64"
      ]
     },
     "execution_count": 27,
     "metadata": {},
     "output_type": "execute_result"
    }
   ],
   "source": [
    " df['Score'].value_counts()  # returns count of distinct values"
   ]
  },
  {
   "cell_type": "markdown",
   "id": "ed5c847e",
   "metadata": {
    "papermill": {
     "duration": 0.012663,
     "end_time": "2024-01-28T11:08:15.997735",
     "exception": false,
     "start_time": "2024-01-28T11:08:15.985072",
     "status": "completed"
    },
    "tags": []
   },
   "source": [
    "unique():\n",
    "\n",
    "df['column_name'].unique(): Returns an array of unique values in a specific column."
   ]
  },
  {
   "cell_type": "code",
   "execution_count": 28,
   "id": "a81a7d77",
   "metadata": {
    "execution": {
     "iopub.execute_input": "2024-01-28T11:08:16.027013Z",
     "iopub.status.busy": "2024-01-28T11:08:16.026584Z",
     "iopub.status.idle": "2024-01-28T11:08:16.035038Z",
     "shell.execute_reply": "2024-01-28T11:08:16.033963Z"
    },
    "papermill": {
     "duration": 0.025772,
     "end_time": "2024-01-28T11:08:16.037359",
     "exception": false,
     "start_time": "2024-01-28T11:08:16.011587",
     "status": "completed"
    },
    "tags": []
   },
   "outputs": [
    {
     "data": {
      "text/plain": [
       "array(['Sousou no Frieren', 'Fullmetal Alchemist: Brotherhood',\n",
       "       'Steins;Gate', ..., 'Shouwang Zhengfeng',\n",
       "       'Shouwang Zhengfeng Shen Jiang Zhi Nu',\n",
       "       'Shouwang Zhengfeng: Yuanshi Zhi Li'], dtype=object)"
      ]
     },
     "execution_count": 28,
     "metadata": {},
     "output_type": "execute_result"
    }
   ],
   "source": [
    "df['Name'].unique()"
   ]
  },
  {
   "cell_type": "code",
   "execution_count": 29,
   "id": "74a6030e",
   "metadata": {
    "execution": {
     "iopub.execute_input": "2024-01-28T11:08:16.066940Z",
     "iopub.status.busy": "2024-01-28T11:08:16.066523Z",
     "iopub.status.idle": "2024-01-28T11:08:16.074129Z",
     "shell.execute_reply": "2024-01-28T11:08:16.073097Z"
    },
    "papermill": {
     "duration": 0.024871,
     "end_time": "2024-01-28T11:08:16.076074",
     "exception": false,
     "start_time": "2024-01-28T11:08:16.051203",
     "status": "completed"
    },
    "tags": []
   },
   "outputs": [
    {
     "data": {
      "text/plain": [
       "6.854722932651321"
      ]
     },
     "execution_count": 29,
     "metadata": {},
     "output_type": "execute_result"
    }
   ],
   "source": [
    "df['Score'].mean()    # mean value for a coloumn"
   ]
  },
  {
   "cell_type": "code",
   "execution_count": 30,
   "id": "5f341b1d",
   "metadata": {
    "execution": {
     "iopub.execute_input": "2024-01-28T11:08:16.104728Z",
     "iopub.status.busy": "2024-01-28T11:08:16.104347Z",
     "iopub.status.idle": "2024-01-28T11:08:16.118364Z",
     "shell.execute_reply": "2024-01-28T11:08:16.117253Z"
    },
    "papermill": {
     "duration": 0.030112,
     "end_time": "2024-01-28T11:08:16.119999",
     "exception": false,
     "start_time": "2024-01-28T11:08:16.089887",
     "status": "completed"
    },
    "tags": []
   },
   "outputs": [
    {
     "data": {
      "text/html": [
       "<div>\n",
       "<style scoped>\n",
       "    .dataframe tbody tr th:only-of-type {\n",
       "        vertical-align: middle;\n",
       "    }\n",
       "\n",
       "    .dataframe tbody tr th {\n",
       "        vertical-align: top;\n",
       "    }\n",
       "\n",
       "    .dataframe thead th {\n",
       "        text-align: right;\n",
       "    }\n",
       "</style>\n",
       "<table border=\"1\" class=\"dataframe\">\n",
       "  <thead>\n",
       "    <tr style=\"text-align: right;\">\n",
       "      <th></th>\n",
       "      <th>Unnamed: 0</th>\n",
       "      <th>Name</th>\n",
       "      <th>Episodes</th>\n",
       "      <th>Release</th>\n",
       "      <th>Members</th>\n",
       "      <th>Score</th>\n",
       "    </tr>\n",
       "  </thead>\n",
       "  <tbody>\n",
       "    <tr>\n",
       "      <th>0</th>\n",
       "      <td>0</td>\n",
       "      <td>Sousou no Frieren</td>\n",
       "      <td>28.0</td>\n",
       "      <td>Sep 2023 -</td>\n",
       "      <td>493571</td>\n",
       "      <td>9.13</td>\n",
       "    </tr>\n",
       "    <tr>\n",
       "      <th>1</th>\n",
       "      <td>1</td>\n",
       "      <td>Fullmetal Alchemist: Brotherhood</td>\n",
       "      <td>64.0</td>\n",
       "      <td>Apr 2009 - Jul 2010</td>\n",
       "      <td>3292928</td>\n",
       "      <td>9.09</td>\n",
       "    </tr>\n",
       "    <tr>\n",
       "      <th>2</th>\n",
       "      <td>2</td>\n",
       "      <td>Steins;Gate</td>\n",
       "      <td>24.0</td>\n",
       "      <td>Apr 2011 - Sep 2011</td>\n",
       "      <td>2526417</td>\n",
       "      <td>9.07</td>\n",
       "    </tr>\n",
       "    <tr>\n",
       "      <th>3</th>\n",
       "      <td>3</td>\n",
       "      <td>Gintama°</td>\n",
       "      <td>51.0</td>\n",
       "      <td>Apr 2015 - Mar 2016</td>\n",
       "      <td>620676</td>\n",
       "      <td>9.06</td>\n",
       "    </tr>\n",
       "    <tr>\n",
       "      <th>4</th>\n",
       "      <td>4</td>\n",
       "      <td>Shingeki no Kyojin Season 3 Part 2</td>\n",
       "      <td>10.0</td>\n",
       "      <td>Apr 2019 - Jul 2019</td>\n",
       "      <td>2227792</td>\n",
       "      <td>9.05</td>\n",
       "    </tr>\n",
       "  </tbody>\n",
       "</table>\n",
       "</div>"
      ],
      "text/plain": [
       "   Unnamed: 0                                Name  Episodes  \\\n",
       "0           0                   Sousou no Frieren      28.0   \n",
       "1           1    Fullmetal Alchemist: Brotherhood      64.0   \n",
       "2           2                         Steins;Gate      24.0   \n",
       "3           3                            Gintama°      51.0   \n",
       "4           4  Shingeki no Kyojin Season 3 Part 2      10.0   \n",
       "\n",
       "               Release  Members  Score  \n",
       "0           Sep 2023 -   493571   9.13  \n",
       "1  Apr 2009 - Jul 2010  3292928   9.09  \n",
       "2  Apr 2011 - Sep 2011  2526417   9.07  \n",
       "3  Apr 2015 - Mar 2016   620676   9.06  \n",
       "4  Apr 2019 - Jul 2019  2227792   9.05  "
      ]
     },
     "execution_count": 30,
     "metadata": {},
     "output_type": "execute_result"
    }
   ],
   "source": [
    "df.sort_values(by='Score', ascending = False).head()   # highest scored top five anime"
   ]
  },
  {
   "cell_type": "markdown",
   "id": "b6cd5c22",
   "metadata": {
    "papermill": {
     "duration": 0.012702,
     "end_time": "2024-01-28T11:08:16.146229",
     "exception": false,
     "start_time": "2024-01-28T11:08:16.133527",
     "status": "completed"
    },
    "tags": []
   },
   "source": [
    "**Apart from these functions there are many other functions in panda**"
   ]
  },
  {
   "cell_type": "code",
   "execution_count": 31,
   "id": "b5554551",
   "metadata": {
    "execution": {
     "iopub.execute_input": "2024-01-28T11:08:16.175429Z",
     "iopub.status.busy": "2024-01-28T11:08:16.174672Z",
     "iopub.status.idle": "2024-01-28T11:08:16.181608Z",
     "shell.execute_reply": "2024-01-28T11:08:16.180866Z"
    },
    "papermill": {
     "duration": 0.023443,
     "end_time": "2024-01-28T11:08:16.183177",
     "exception": false,
     "start_time": "2024-01-28T11:08:16.159734",
     "status": "completed"
    },
    "tags": []
   },
   "outputs": [
    {
     "data": {
      "text/plain": [
       "Unnamed: 0                                     4\n",
       "Name          Shingeki no Kyojin Season 3 Part 2\n",
       "Episodes                                    10.0\n",
       "Release                      Apr 2019 - Jul 2019\n",
       "Members                                  2227792\n",
       "Score                                       9.05\n",
       "Name: 4, dtype: object"
      ]
     },
     "execution_count": 31,
     "metadata": {},
     "output_type": "execute_result"
    }
   ],
   "source": [
    "df.loc[4]   # gives the info for particular row"
   ]
  },
  {
   "cell_type": "markdown",
   "id": "9769a83f",
   "metadata": {
    "papermill": {
     "duration": 0.013071,
     "end_time": "2024-01-28T11:08:16.210209",
     "exception": false,
     "start_time": "2024-01-28T11:08:16.197138",
     "status": "completed"
    },
    "tags": []
   },
   "source": [
    "The set_index method in pandas is used to set a specific column as the DataFrame's index. The index is a crucial component of a DataFrame, providing labels for the rows. By default, DataFrames have a numerical index starting from 0, but sometimes it's more meaningful to use one of the existing columns as the index, especially when the data has a natural key.\n",
    "\n",
    "df.set_index(keys, drop=True, inplace=False)\n",
    "\n",
    "keys: The column or columns you want to set as the index. This can be a single column name or a list of column names if you want a multi-level index.\n",
    "\n",
    "drop: If True, it removes the column(s) used as the new index from the DataFrame. If False, it keeps the column(s) in the DataFrame as a regular column(s).\n",
    "\n",
    "inplace: If True, the change is made in place, and it doesn't return a new DataFrame. If False (the default), it returns a new DataFrame with the updated index."
   ]
  },
  {
   "cell_type": "markdown",
   "id": "24da4077",
   "metadata": {
    "papermill": {
     "duration": 0.0128,
     "end_time": "2024-01-28T11:08:16.236469",
     "exception": false,
     "start_time": "2024-01-28T11:08:16.223669",
     "status": "completed"
    },
    "tags": []
   },
   "source": [
    "If you want to reset the index to the default numerical index, you can use the reset_index method:\n",
    "\n",
    "df.reset_index(inplace=True)"
   ]
  },
  {
   "cell_type": "code",
   "execution_count": 32,
   "id": "4242adb4",
   "metadata": {
    "execution": {
     "iopub.execute_input": "2024-01-28T11:08:16.266313Z",
     "iopub.status.busy": "2024-01-28T11:08:16.265032Z",
     "iopub.status.idle": "2024-01-28T11:08:16.278591Z",
     "shell.execute_reply": "2024-01-28T11:08:16.277551Z"
    },
    "papermill": {
     "duration": 0.03057,
     "end_time": "2024-01-28T11:08:16.280593",
     "exception": false,
     "start_time": "2024-01-28T11:08:16.250023",
     "status": "completed"
    },
    "tags": []
   },
   "outputs": [
    {
     "data": {
      "text/html": [
       "<div>\n",
       "<style scoped>\n",
       "    .dataframe tbody tr th:only-of-type {\n",
       "        vertical-align: middle;\n",
       "    }\n",
       "\n",
       "    .dataframe tbody tr th {\n",
       "        vertical-align: top;\n",
       "    }\n",
       "\n",
       "    .dataframe thead th {\n",
       "        text-align: right;\n",
       "    }\n",
       "</style>\n",
       "<table border=\"1\" class=\"dataframe\">\n",
       "  <thead>\n",
       "    <tr style=\"text-align: right;\">\n",
       "      <th></th>\n",
       "      <th>Name</th>\n",
       "      <th>Episodes</th>\n",
       "      <th>Release</th>\n",
       "      <th>Members</th>\n",
       "      <th>Score</th>\n",
       "    </tr>\n",
       "    <tr>\n",
       "      <th>Unnamed: 0</th>\n",
       "      <th></th>\n",
       "      <th></th>\n",
       "      <th></th>\n",
       "      <th></th>\n",
       "      <th></th>\n",
       "    </tr>\n",
       "  </thead>\n",
       "  <tbody>\n",
       "    <tr>\n",
       "      <th>0</th>\n",
       "      <td>Sousou no Frieren</td>\n",
       "      <td>28.0</td>\n",
       "      <td>Sep 2023 -</td>\n",
       "      <td>493571</td>\n",
       "      <td>9.13</td>\n",
       "    </tr>\n",
       "    <tr>\n",
       "      <th>1</th>\n",
       "      <td>Fullmetal Alchemist: Brotherhood</td>\n",
       "      <td>64.0</td>\n",
       "      <td>Apr 2009 - Jul 2010</td>\n",
       "      <td>3292928</td>\n",
       "      <td>9.09</td>\n",
       "    </tr>\n",
       "    <tr>\n",
       "      <th>2</th>\n",
       "      <td>Steins;Gate</td>\n",
       "      <td>24.0</td>\n",
       "      <td>Apr 2011 - Sep 2011</td>\n",
       "      <td>2526417</td>\n",
       "      <td>9.07</td>\n",
       "    </tr>\n",
       "    <tr>\n",
       "      <th>3</th>\n",
       "      <td>Gintama°</td>\n",
       "      <td>51.0</td>\n",
       "      <td>Apr 2015 - Mar 2016</td>\n",
       "      <td>620676</td>\n",
       "      <td>9.06</td>\n",
       "    </tr>\n",
       "    <tr>\n",
       "      <th>4</th>\n",
       "      <td>Shingeki no Kyojin Season 3 Part 2</td>\n",
       "      <td>10.0</td>\n",
       "      <td>Apr 2019 - Jul 2019</td>\n",
       "      <td>2227792</td>\n",
       "      <td>9.05</td>\n",
       "    </tr>\n",
       "  </tbody>\n",
       "</table>\n",
       "</div>"
      ],
      "text/plain": [
       "                                          Name  Episodes              Release  \\\n",
       "Unnamed: 0                                                                      \n",
       "0                            Sousou no Frieren      28.0           Sep 2023 -   \n",
       "1             Fullmetal Alchemist: Brotherhood      64.0  Apr 2009 - Jul 2010   \n",
       "2                                  Steins;Gate      24.0  Apr 2011 - Sep 2011   \n",
       "3                                     Gintama°      51.0  Apr 2015 - Mar 2016   \n",
       "4           Shingeki no Kyojin Season 3 Part 2      10.0  Apr 2019 - Jul 2019   \n",
       "\n",
       "            Members  Score  \n",
       "Unnamed: 0                  \n",
       "0            493571   9.13  \n",
       "1           3292928   9.09  \n",
       "2           2526417   9.07  \n",
       "3            620676   9.06  \n",
       "4           2227792   9.05  "
      ]
     },
     "execution_count": 32,
     "metadata": {},
     "output_type": "execute_result"
    }
   ],
   "source": [
    "# we can use the setIndex method to set the id \n",
    "new_df = df.set_index('Unnamed: 0')\n",
    "\n",
    "new_df.head()"
   ]
  },
  {
   "cell_type": "markdown",
   "id": "05457a42",
   "metadata": {
    "papermill": {
     "duration": 0.01516,
     "end_time": "2024-01-28T11:08:16.310532",
     "exception": false,
     "start_time": "2024-01-28T11:08:16.295372",
     "status": "completed"
    },
    "tags": []
   },
   "source": [
    "# Subsetting the Data :"
   ]
  },
  {
   "cell_type": "code",
   "execution_count": 33,
   "id": "30a5e3ea",
   "metadata": {
    "execution": {
     "iopub.execute_input": "2024-01-28T11:08:16.341507Z",
     "iopub.status.busy": "2024-01-28T11:08:16.341131Z",
     "iopub.status.idle": "2024-01-28T11:08:16.354866Z",
     "shell.execute_reply": "2024-01-28T11:08:16.353984Z"
    },
    "papermill": {
     "duration": 0.031788,
     "end_time": "2024-01-28T11:08:16.356782",
     "exception": false,
     "start_time": "2024-01-28T11:08:16.324994",
     "status": "completed"
    },
    "tags": []
   },
   "outputs": [
    {
     "data": {
      "text/html": [
       "<div>\n",
       "<style scoped>\n",
       "    .dataframe tbody tr th:only-of-type {\n",
       "        vertical-align: middle;\n",
       "    }\n",
       "\n",
       "    .dataframe tbody tr th {\n",
       "        vertical-align: top;\n",
       "    }\n",
       "\n",
       "    .dataframe thead th {\n",
       "        text-align: right;\n",
       "    }\n",
       "</style>\n",
       "<table border=\"1\" class=\"dataframe\">\n",
       "  <thead>\n",
       "    <tr style=\"text-align: right;\">\n",
       "      <th></th>\n",
       "      <th>Name</th>\n",
       "      <th>Episodes</th>\n",
       "      <th>Score</th>\n",
       "    </tr>\n",
       "    <tr>\n",
       "      <th>Unnamed: 0</th>\n",
       "      <th></th>\n",
       "      <th></th>\n",
       "      <th></th>\n",
       "    </tr>\n",
       "  </thead>\n",
       "  <tbody>\n",
       "    <tr>\n",
       "      <th>0</th>\n",
       "      <td>Sousou no Frieren</td>\n",
       "      <td>28.0</td>\n",
       "      <td>9.13</td>\n",
       "    </tr>\n",
       "    <tr>\n",
       "      <th>1</th>\n",
       "      <td>Fullmetal Alchemist: Brotherhood</td>\n",
       "      <td>64.0</td>\n",
       "      <td>9.09</td>\n",
       "    </tr>\n",
       "    <tr>\n",
       "      <th>2</th>\n",
       "      <td>Steins;Gate</td>\n",
       "      <td>24.0</td>\n",
       "      <td>9.07</td>\n",
       "    </tr>\n",
       "    <tr>\n",
       "      <th>3</th>\n",
       "      <td>Gintama°</td>\n",
       "      <td>51.0</td>\n",
       "      <td>9.06</td>\n",
       "    </tr>\n",
       "    <tr>\n",
       "      <th>4</th>\n",
       "      <td>Shingeki no Kyojin Season 3 Part 2</td>\n",
       "      <td>10.0</td>\n",
       "      <td>9.05</td>\n",
       "    </tr>\n",
       "    <tr>\n",
       "      <th>...</th>\n",
       "      <td>...</td>\n",
       "      <td>...</td>\n",
       "      <td>...</td>\n",
       "    </tr>\n",
       "    <tr>\n",
       "      <th>4695</th>\n",
       "      <td>Shounen Santa no Daibouken!</td>\n",
       "      <td>24.0</td>\n",
       "      <td>NaN</td>\n",
       "    </tr>\n",
       "    <tr>\n",
       "      <th>4696</th>\n",
       "      <td>Shounen Tokugawa Ieyasu</td>\n",
       "      <td>20.0</td>\n",
       "      <td>NaN</td>\n",
       "    </tr>\n",
       "    <tr>\n",
       "      <th>4697</th>\n",
       "      <td>Shouwang Zhengfeng</td>\n",
       "      <td>26.0</td>\n",
       "      <td>NaN</td>\n",
       "    </tr>\n",
       "    <tr>\n",
       "      <th>4698</th>\n",
       "      <td>Shouwang Zhengfeng Shen Jiang Zhi Nu</td>\n",
       "      <td>26.0</td>\n",
       "      <td>NaN</td>\n",
       "    </tr>\n",
       "    <tr>\n",
       "      <th>4699</th>\n",
       "      <td>Shouwang Zhengfeng: Yuanshi Zhi Li</td>\n",
       "      <td>26.0</td>\n",
       "      <td>NaN</td>\n",
       "    </tr>\n",
       "  </tbody>\n",
       "</table>\n",
       "<p>4700 rows × 3 columns</p>\n",
       "</div>"
      ],
      "text/plain": [
       "                                            Name  Episodes  Score\n",
       "Unnamed: 0                                                       \n",
       "0                              Sousou no Frieren      28.0   9.13\n",
       "1               Fullmetal Alchemist: Brotherhood      64.0   9.09\n",
       "2                                    Steins;Gate      24.0   9.07\n",
       "3                                       Gintama°      51.0   9.06\n",
       "4             Shingeki no Kyojin Season 3 Part 2      10.0   9.05\n",
       "...                                          ...       ...    ...\n",
       "4695                 Shounen Santa no Daibouken!      24.0    NaN\n",
       "4696                     Shounen Tokugawa Ieyasu      20.0    NaN\n",
       "4697                          Shouwang Zhengfeng      26.0    NaN\n",
       "4698        Shouwang Zhengfeng Shen Jiang Zhi Nu      26.0    NaN\n",
       "4699          Shouwang Zhengfeng: Yuanshi Zhi Li      26.0    NaN\n",
       "\n",
       "[4700 rows x 3 columns]"
      ]
     },
     "execution_count": 33,
     "metadata": {},
     "output_type": "execute_result"
    }
   ],
   "source": [
    "new_df = new_df[['Name','Episodes','Score']]   # if we need only certain coloumns \n",
    "new_df"
   ]
  },
  {
   "cell_type": "code",
   "execution_count": 34,
   "id": "78039f23",
   "metadata": {
    "execution": {
     "iopub.execute_input": "2024-01-28T11:08:16.388803Z",
     "iopub.status.busy": "2024-01-28T11:08:16.388358Z",
     "iopub.status.idle": "2024-01-28T11:08:16.396765Z",
     "shell.execute_reply": "2024-01-28T11:08:16.395855Z"
    },
    "papermill": {
     "duration": 0.026756,
     "end_time": "2024-01-28T11:08:16.398674",
     "exception": false,
     "start_time": "2024-01-28T11:08:16.371918",
     "status": "completed"
    },
    "tags": []
   },
   "outputs": [
    {
     "data": {
      "text/plain": [
       "Unnamed: 0\n",
       "0        True\n",
       "1        True\n",
       "2        True\n",
       "3        True\n",
       "4        True\n",
       "        ...  \n",
       "4695    False\n",
       "4696    False\n",
       "4697    False\n",
       "4698    False\n",
       "4699    False\n",
       "Name: Score, Length: 4700, dtype: bool"
      ]
     },
     "execution_count": 34,
     "metadata": {},
     "output_type": "execute_result"
    }
   ],
   "source": [
    "new_df['Score']>9   # specific rows with bool"
   ]
  },
  {
   "cell_type": "code",
   "execution_count": 35,
   "id": "c840ee3a",
   "metadata": {
    "execution": {
     "iopub.execute_input": "2024-01-28T11:08:16.430914Z",
     "iopub.status.busy": "2024-01-28T11:08:16.430456Z",
     "iopub.status.idle": "2024-01-28T11:08:16.446666Z",
     "shell.execute_reply": "2024-01-28T11:08:16.445816Z"
    },
    "papermill": {
     "duration": 0.034433,
     "end_time": "2024-01-28T11:08:16.448519",
     "exception": false,
     "start_time": "2024-01-28T11:08:16.414086",
     "status": "completed"
    },
    "tags": []
   },
   "outputs": [
    {
     "data": {
      "text/html": [
       "<div>\n",
       "<style scoped>\n",
       "    .dataframe tbody tr th:only-of-type {\n",
       "        vertical-align: middle;\n",
       "    }\n",
       "\n",
       "    .dataframe tbody tr th {\n",
       "        vertical-align: top;\n",
       "    }\n",
       "\n",
       "    .dataframe thead th {\n",
       "        text-align: right;\n",
       "    }\n",
       "</style>\n",
       "<table border=\"1\" class=\"dataframe\">\n",
       "  <thead>\n",
       "    <tr style=\"text-align: right;\">\n",
       "      <th></th>\n",
       "      <th>Name</th>\n",
       "      <th>Episodes</th>\n",
       "      <th>Score</th>\n",
       "    </tr>\n",
       "    <tr>\n",
       "      <th>Unnamed: 0</th>\n",
       "      <th></th>\n",
       "      <th></th>\n",
       "      <th></th>\n",
       "    </tr>\n",
       "  </thead>\n",
       "  <tbody>\n",
       "    <tr>\n",
       "      <th>0</th>\n",
       "      <td>Sousou no Frieren</td>\n",
       "      <td>28.0</td>\n",
       "      <td>9.13</td>\n",
       "    </tr>\n",
       "    <tr>\n",
       "      <th>1</th>\n",
       "      <td>Fullmetal Alchemist: Brotherhood</td>\n",
       "      <td>64.0</td>\n",
       "      <td>9.09</td>\n",
       "    </tr>\n",
       "    <tr>\n",
       "      <th>2</th>\n",
       "      <td>Steins;Gate</td>\n",
       "      <td>24.0</td>\n",
       "      <td>9.07</td>\n",
       "    </tr>\n",
       "    <tr>\n",
       "      <th>3</th>\n",
       "      <td>Gintama°</td>\n",
       "      <td>51.0</td>\n",
       "      <td>9.06</td>\n",
       "    </tr>\n",
       "    <tr>\n",
       "      <th>4</th>\n",
       "      <td>Shingeki no Kyojin Season 3 Part 2</td>\n",
       "      <td>10.0</td>\n",
       "      <td>9.05</td>\n",
       "    </tr>\n",
       "    <tr>\n",
       "      <th>5</th>\n",
       "      <td>Hunter x Hunter (2011)</td>\n",
       "      <td>148.0</td>\n",
       "      <td>9.04</td>\n",
       "    </tr>\n",
       "    <tr>\n",
       "      <th>6</th>\n",
       "      <td>Bleach: Sennen Kessen-hen</td>\n",
       "      <td>13.0</td>\n",
       "      <td>9.03</td>\n",
       "    </tr>\n",
       "    <tr>\n",
       "      <th>7</th>\n",
       "      <td>Gintama'</td>\n",
       "      <td>51.0</td>\n",
       "      <td>9.03</td>\n",
       "    </tr>\n",
       "    <tr>\n",
       "      <th>8</th>\n",
       "      <td>Gintama': Enchousen</td>\n",
       "      <td>13.0</td>\n",
       "      <td>9.02</td>\n",
       "    </tr>\n",
       "    <tr>\n",
       "      <th>9</th>\n",
       "      <td>Kaguya-sama wa Kokurasetai: Ultra Romantic</td>\n",
       "      <td>13.0</td>\n",
       "      <td>9.02</td>\n",
       "    </tr>\n",
       "  </tbody>\n",
       "</table>\n",
       "</div>"
      ],
      "text/plain": [
       "                                                  Name  Episodes  Score\n",
       "Unnamed: 0                                                             \n",
       "0                                    Sousou no Frieren      28.0   9.13\n",
       "1                     Fullmetal Alchemist: Brotherhood      64.0   9.09\n",
       "2                                          Steins;Gate      24.0   9.07\n",
       "3                                             Gintama°      51.0   9.06\n",
       "4                   Shingeki no Kyojin Season 3 Part 2      10.0   9.05\n",
       "5                               Hunter x Hunter (2011)     148.0   9.04\n",
       "6                            Bleach: Sennen Kessen-hen      13.0   9.03\n",
       "7                                             Gintama'      51.0   9.03\n",
       "8                                  Gintama': Enchousen      13.0   9.02\n",
       "9           Kaguya-sama wa Kokurasetai: Ultra Romantic      13.0   9.02"
      ]
     },
     "execution_count": 35,
     "metadata": {},
     "output_type": "execute_result"
    }
   ],
   "source": [
    "# new df.query method\n",
    "new_df.query('Score > 9')  # actual values \n",
    "# note you can add multiple query using and eg  filtered_df = df.query('Age > 28 and City == \"San Francisco\"')"
   ]
  },
  {
   "cell_type": "code",
   "execution_count": 36,
   "id": "7b4e6a3d",
   "metadata": {
    "execution": {
     "iopub.execute_input": "2024-01-28T11:08:16.481277Z",
     "iopub.status.busy": "2024-01-28T11:08:16.480858Z",
     "iopub.status.idle": "2024-01-28T11:08:16.498218Z",
     "shell.execute_reply": "2024-01-28T11:08:16.497486Z"
    },
    "papermill": {
     "duration": 0.036723,
     "end_time": "2024-01-28T11:08:16.500446",
     "exception": false,
     "start_time": "2024-01-28T11:08:16.463723",
     "status": "completed"
    },
    "tags": []
   },
   "outputs": [
    {
     "name": "stdout",
     "output_type": "stream",
     "text": [
      "Original DataFrame:\n",
      "      Unnamed: 0                                  Name  Episodes  \\\n",
      "0              0                     Sousou no Frieren      28.0   \n",
      "1              1      Fullmetal Alchemist: Brotherhood      64.0   \n",
      "2              2                           Steins;Gate      24.0   \n",
      "3              3                              Gintama°      51.0   \n",
      "4              4    Shingeki no Kyojin Season 3 Part 2      10.0   \n",
      "...          ...                                   ...       ...   \n",
      "4695        4695           Shounen Santa no Daibouken!      24.0   \n",
      "4696        4696               Shounen Tokugawa Ieyasu      20.0   \n",
      "4697        4697                    Shouwang Zhengfeng      26.0   \n",
      "4698        4698  Shouwang Zhengfeng Shen Jiang Zhi Nu      26.0   \n",
      "4699        4699    Shouwang Zhengfeng: Yuanshi Zhi Li      26.0   \n",
      "\n",
      "                  Release  Members  Score  \n",
      "0              Sep 2023 -   493571   9.13  \n",
      "1     Apr 2009 - Jul 2010  3292928   9.09  \n",
      "2     Apr 2011 - Sep 2011  2526417   9.07  \n",
      "3     Apr 2015 - Mar 2016   620676   9.06  \n",
      "4     Apr 2019 - Jul 2019  2227792   9.05  \n",
      "...                   ...      ...    ...  \n",
      "4695  Apr 1996 - Sep 1996      482    NaN  \n",
      "4696  Apr 1975 - Sep 1975      636    NaN  \n",
      "4697  Nov 2016 - Dec 2016       88    NaN  \n",
      "4698                    -       47    NaN  \n",
      "4699               2017 -       59    NaN  \n",
      "\n",
      "[4700 rows x 6 columns]\n",
      "\n",
      "NaN Check:\n",
      "      Unnamed: 0   Name  Episodes  Release  Members  Score\n",
      "0          False  False     False    False    False  False\n",
      "1          False  False     False    False    False  False\n",
      "2          False  False     False    False    False  False\n",
      "3          False  False     False    False    False  False\n",
      "4          False  False     False    False    False  False\n",
      "...          ...    ...       ...      ...      ...    ...\n",
      "4695       False  False     False    False    False   True\n",
      "4696       False  False     False    False    False   True\n",
      "4697       False  False     False    False    False   True\n",
      "4698       False  False     False    False    False   True\n",
      "4699       False  False     False    False    False   True\n",
      "\n",
      "[4700 rows x 6 columns]\n"
     ]
    }
   ],
   "source": [
    "# Check for NaN values in the entire DataFrame\n",
    "nan_check = df.isna()\n",
    "\n",
    "# Display the DataFrame and NaN check result\n",
    "print(\"Original DataFrame:\")\n",
    "print(df)\n",
    "print(\"\\nNaN Check:\")\n",
    "print(nan_check)"
   ]
  },
  {
   "cell_type": "code",
   "execution_count": 37,
   "id": "055ef275",
   "metadata": {
    "execution": {
     "iopub.execute_input": "2024-01-28T11:08:16.533055Z",
     "iopub.status.busy": "2024-01-28T11:08:16.532617Z",
     "iopub.status.idle": "2024-01-28T11:08:16.547653Z",
     "shell.execute_reply": "2024-01-28T11:08:16.546115Z"
    },
    "papermill": {
     "duration": 0.034417,
     "end_time": "2024-01-28T11:08:16.549957",
     "exception": false,
     "start_time": "2024-01-28T11:08:16.515540",
     "status": "completed"
    },
    "tags": []
   },
   "outputs": [
    {
     "name": "stdout",
     "output_type": "stream",
     "text": [
      "DataFrame after dropping NaN values:\n",
      "      Unnamed: 0                                Name  Episodes  \\\n",
      "0              0                   Sousou no Frieren      28.0   \n",
      "1              1    Fullmetal Alchemist: Brotherhood      64.0   \n",
      "2              2                         Steins;Gate      24.0   \n",
      "3              3                            Gintama°      51.0   \n",
      "4              4  Shingeki no Kyojin Season 3 Part 2      10.0   \n",
      "...          ...                                 ...       ...   \n",
      "4687        4687                              Hanoka      12.0   \n",
      "4688        4688                                Pupa      12.0   \n",
      "4689        4689                      Vampire Holmes      12.0   \n",
      "4690        4690                             Ladyspo      12.0   \n",
      "4691        4691                              Ex-Arm      12.0   \n",
      "\n",
      "                  Release  Members  Score  \n",
      "0              Sep 2023 -   493571   9.13  \n",
      "1     Apr 2009 - Jul 2010  3292928   9.09  \n",
      "2     Apr 2011 - Sep 2011  2526417   9.07  \n",
      "3     Apr 2015 - Mar 2016   620676   9.06  \n",
      "4     Apr 2019 - Jul 2019  2227792   9.05  \n",
      "...                   ...      ...    ...  \n",
      "4687  Aug 2006 - Oct 2006     5167   3.33  \n",
      "4688  Jan 2014 - Mar 2014   187108   3.29  \n",
      "4689  Apr 2015 - Jun 2015    20927   3.29  \n",
      "4690  Apr 2018 - Jun 2018     4442   3.05  \n",
      "4691  Jan 2021 - Mar 2021    80994   2.90  \n",
      "\n",
      "[4659 rows x 6 columns]\n"
     ]
    }
   ],
   "source": [
    "# Drop rows with NaN values\n",
    "df_no_nan = df.dropna()\n",
    "\n",
    "# Display the DataFrame after dropping NaN values\n",
    "print(\"DataFrame after dropping NaN values:\")\n",
    "print(df_no_nan)"
   ]
  },
  {
   "cell_type": "code",
   "execution_count": 38,
   "id": "43b37704",
   "metadata": {
    "execution": {
     "iopub.execute_input": "2024-01-28T11:08:16.582292Z",
     "iopub.status.busy": "2024-01-28T11:08:16.581437Z",
     "iopub.status.idle": "2024-01-28T11:08:16.594603Z",
     "shell.execute_reply": "2024-01-28T11:08:16.593120Z"
    },
    "papermill": {
     "duration": 0.031504,
     "end_time": "2024-01-28T11:08:16.596860",
     "exception": false,
     "start_time": "2024-01-28T11:08:16.565356",
     "status": "completed"
    },
    "tags": []
   },
   "outputs": [
    {
     "name": "stdout",
     "output_type": "stream",
     "text": [
      "DataFrame after filling NaN values:\n",
      "      Unnamed: 0                                  Name  Episodes  \\\n",
      "0              0                     Sousou no Frieren      28.0   \n",
      "1              1      Fullmetal Alchemist: Brotherhood      64.0   \n",
      "2              2                           Steins;Gate      24.0   \n",
      "3              3                              Gintama°      51.0   \n",
      "4              4    Shingeki no Kyojin Season 3 Part 2      10.0   \n",
      "...          ...                                   ...       ...   \n",
      "4695        4695           Shounen Santa no Daibouken!      24.0   \n",
      "4696        4696               Shounen Tokugawa Ieyasu      20.0   \n",
      "4697        4697                    Shouwang Zhengfeng      26.0   \n",
      "4698        4698  Shouwang Zhengfeng Shen Jiang Zhi Nu      26.0   \n",
      "4699        4699    Shouwang Zhengfeng: Yuanshi Zhi Li      26.0   \n",
      "\n",
      "                  Release  Members  Score  \n",
      "0              Sep 2023 -   493571   9.13  \n",
      "1     Apr 2009 - Jul 2010  3292928   9.09  \n",
      "2     Apr 2011 - Sep 2011  2526417   9.07  \n",
      "3     Apr 2015 - Mar 2016   620676   9.06  \n",
      "4     Apr 2019 - Jul 2019  2227792   9.05  \n",
      "...                   ...      ...    ...  \n",
      "4695  Apr 1996 - Sep 1996      482   0.00  \n",
      "4696  Apr 1975 - Sep 1975      636   0.00  \n",
      "4697  Nov 2016 - Dec 2016       88   0.00  \n",
      "4698                    -       47   0.00  \n",
      "4699               2017 -       59   0.00  \n",
      "\n",
      "[4700 rows x 6 columns]\n"
     ]
    }
   ],
   "source": [
    "# Fill NaN values with a specific value (e.g., 0)\n",
    "df_filled = df.fillna(0)\n",
    "\n",
    "# Display the DataFrame after filling NaN values\n",
    "print(\"DataFrame after filling NaN values:\")\n",
    "print(df_filled)"
   ]
  },
  {
   "cell_type": "code",
   "execution_count": 39,
   "id": "f4c4565b",
   "metadata": {
    "execution": {
     "iopub.execute_input": "2024-01-28T11:08:16.629824Z",
     "iopub.status.busy": "2024-01-28T11:08:16.629167Z",
     "iopub.status.idle": "2024-01-28T11:08:16.637041Z",
     "shell.execute_reply": "2024-01-28T11:08:16.635628Z"
    },
    "papermill": {
     "duration": 0.027133,
     "end_time": "2024-01-28T11:08:16.639818",
     "exception": false,
     "start_time": "2024-01-28T11:08:16.612685",
     "status": "completed"
    },
    "tags": []
   },
   "outputs": [
    {
     "name": "stdout",
     "output_type": "stream",
     "text": [
      "DataFrame after replacing NaN values based on condition:\n",
      "0       9.130000\n",
      "1       9.090000\n",
      "2       9.070000\n",
      "3       9.060000\n",
      "4       9.050000\n",
      "          ...   \n",
      "4695    6.854723\n",
      "4696    6.854723\n",
      "4697    6.854723\n",
      "4698    6.854723\n",
      "4699    6.854723\n",
      "Name: Score, Length: 4700, dtype: float64\n"
     ]
    }
   ],
   "source": [
    "# Replace NaN values in column 'Score' with the mean of that column\n",
    "mean_A = df['Score'].mean()\n",
    "df_replace_mean = df['Score'].fillna(mean_A)\n",
    "\n",
    "# Display the DataFrame after replacing NaN values\n",
    "print(\"DataFrame after replacing NaN values based on condition:\")\n",
    "print(df_replace_mean)"
   ]
  },
  {
   "cell_type": "markdown",
   "id": "4f744b9e",
   "metadata": {
    "papermill": {
     "duration": 0.01598,
     "end_time": "2024-01-28T11:08:16.671571",
     "exception": false,
     "start_time": "2024-01-28T11:08:16.655591",
     "status": "completed"
    },
    "tags": []
   },
   "source": [
    "****Add Col****"
   ]
  },
  {
   "cell_type": "code",
   "execution_count": 40,
   "id": "3443dfbc",
   "metadata": {
    "execution": {
     "iopub.execute_input": "2024-01-28T11:08:16.703087Z",
     "iopub.status.busy": "2024-01-28T11:08:16.702659Z",
     "iopub.status.idle": "2024-01-28T11:08:16.715197Z",
     "shell.execute_reply": "2024-01-28T11:08:16.713961Z"
    },
    "papermill": {
     "duration": 0.031602,
     "end_time": "2024-01-28T11:08:16.718021",
     "exception": false,
     "start_time": "2024-01-28T11:08:16.686419",
     "status": "completed"
    },
    "tags": []
   },
   "outputs": [
    {
     "data": {
      "text/html": [
       "<div>\n",
       "<style scoped>\n",
       "    .dataframe tbody tr th:only-of-type {\n",
       "        vertical-align: middle;\n",
       "    }\n",
       "\n",
       "    .dataframe tbody tr th {\n",
       "        vertical-align: top;\n",
       "    }\n",
       "\n",
       "    .dataframe thead th {\n",
       "        text-align: right;\n",
       "    }\n",
       "</style>\n",
       "<table border=\"1\" class=\"dataframe\">\n",
       "  <thead>\n",
       "    <tr style=\"text-align: right;\">\n",
       "      <th></th>\n",
       "      <th>Name</th>\n",
       "      <th>Episodes</th>\n",
       "      <th>Score</th>\n",
       "      <th>new_col</th>\n",
       "    </tr>\n",
       "    <tr>\n",
       "      <th>Unnamed: 0</th>\n",
       "      <th></th>\n",
       "      <th></th>\n",
       "      <th></th>\n",
       "      <th></th>\n",
       "    </tr>\n",
       "  </thead>\n",
       "  <tbody>\n",
       "    <tr>\n",
       "      <th>0</th>\n",
       "      <td>Sousou no Frieren</td>\n",
       "      <td>28.0</td>\n",
       "      <td>9.13</td>\n",
       "      <td>3.066813</td>\n",
       "    </tr>\n",
       "    <tr>\n",
       "      <th>1</th>\n",
       "      <td>Fullmetal Alchemist: Brotherhood</td>\n",
       "      <td>64.0</td>\n",
       "      <td>9.09</td>\n",
       "      <td>7.040704</td>\n",
       "    </tr>\n",
       "    <tr>\n",
       "      <th>2</th>\n",
       "      <td>Steins;Gate</td>\n",
       "      <td>24.0</td>\n",
       "      <td>9.07</td>\n",
       "      <td>2.646086</td>\n",
       "    </tr>\n",
       "    <tr>\n",
       "      <th>3</th>\n",
       "      <td>Gintama°</td>\n",
       "      <td>51.0</td>\n",
       "      <td>9.06</td>\n",
       "      <td>5.629139</td>\n",
       "    </tr>\n",
       "    <tr>\n",
       "      <th>4</th>\n",
       "      <td>Shingeki no Kyojin Season 3 Part 2</td>\n",
       "      <td>10.0</td>\n",
       "      <td>9.05</td>\n",
       "      <td>1.104972</td>\n",
       "    </tr>\n",
       "  </tbody>\n",
       "</table>\n",
       "</div>"
      ],
      "text/plain": [
       "                                          Name  Episodes  Score   new_col\n",
       "Unnamed: 0                                                               \n",
       "0                            Sousou no Frieren      28.0   9.13  3.066813\n",
       "1             Fullmetal Alchemist: Brotherhood      64.0   9.09  7.040704\n",
       "2                                  Steins;Gate      24.0   9.07  2.646086\n",
       "3                                     Gintama°      51.0   9.06  5.629139\n",
       "4           Shingeki no Kyojin Season 3 Part 2      10.0   9.05  1.104972"
      ]
     },
     "execution_count": 40,
     "metadata": {},
     "output_type": "execute_result"
    }
   ],
   "source": [
    "new_df['new_col'] = new_df['Episodes'] / new_df['Score']\n",
    "new_df.head()"
   ]
  },
  {
   "cell_type": "markdown",
   "id": "5607b029",
   "metadata": {
    "papermill": {
     "duration": 0.01531,
     "end_time": "2024-01-28T11:08:16.749162",
     "exception": false,
     "start_time": "2024-01-28T11:08:16.733852",
     "status": "completed"
    },
    "tags": []
   },
   "source": [
    "**Add Row**"
   ]
  },
  {
   "cell_type": "code",
   "execution_count": 41,
   "id": "0055878d",
   "metadata": {
    "execution": {
     "iopub.execute_input": "2024-01-28T11:08:16.782474Z",
     "iopub.status.busy": "2024-01-28T11:08:16.782031Z",
     "iopub.status.idle": "2024-01-28T11:08:16.795368Z",
     "shell.execute_reply": "2024-01-28T11:08:16.794273Z"
    },
    "papermill": {
     "duration": 0.031945,
     "end_time": "2024-01-28T11:08:16.797269",
     "exception": false,
     "start_time": "2024-01-28T11:08:16.765324",
     "status": "completed"
    },
    "tags": []
   },
   "outputs": [
    {
     "data": {
      "text/html": [
       "<div>\n",
       "<style scoped>\n",
       "    .dataframe tbody tr th:only-of-type {\n",
       "        vertical-align: middle;\n",
       "    }\n",
       "\n",
       "    .dataframe tbody tr th {\n",
       "        vertical-align: top;\n",
       "    }\n",
       "\n",
       "    .dataframe thead th {\n",
       "        text-align: right;\n",
       "    }\n",
       "</style>\n",
       "<table border=\"1\" class=\"dataframe\">\n",
       "  <thead>\n",
       "    <tr style=\"text-align: right;\">\n",
       "      <th></th>\n",
       "      <th>Name</th>\n",
       "      <th>Episodes</th>\n",
       "      <th>Score</th>\n",
       "      <th>new_col</th>\n",
       "    </tr>\n",
       "    <tr>\n",
       "      <th>Unnamed: 0</th>\n",
       "      <th></th>\n",
       "      <th></th>\n",
       "      <th></th>\n",
       "      <th></th>\n",
       "    </tr>\n",
       "  </thead>\n",
       "  <tbody>\n",
       "    <tr>\n",
       "      <th>4695</th>\n",
       "      <td>Shounen Santa no Daibouken!</td>\n",
       "      <td>24.0</td>\n",
       "      <td>NaN</td>\n",
       "      <td>NaN</td>\n",
       "    </tr>\n",
       "    <tr>\n",
       "      <th>4696</th>\n",
       "      <td>Shounen Tokugawa Ieyasu</td>\n",
       "      <td>20.0</td>\n",
       "      <td>NaN</td>\n",
       "      <td>NaN</td>\n",
       "    </tr>\n",
       "    <tr>\n",
       "      <th>4697</th>\n",
       "      <td>Shouwang Zhengfeng</td>\n",
       "      <td>26.0</td>\n",
       "      <td>NaN</td>\n",
       "      <td>NaN</td>\n",
       "    </tr>\n",
       "    <tr>\n",
       "      <th>4698</th>\n",
       "      <td>Shouwang Zhengfeng Shen Jiang Zhi Nu</td>\n",
       "      <td>26.0</td>\n",
       "      <td>NaN</td>\n",
       "      <td>NaN</td>\n",
       "    </tr>\n",
       "    <tr>\n",
       "      <th>4699</th>\n",
       "      <td>Shouwang Zhengfeng: Yuanshi Zhi Li</td>\n",
       "      <td>26.0</td>\n",
       "      <td>NaN</td>\n",
       "      <td>NaN</td>\n",
       "    </tr>\n",
       "  </tbody>\n",
       "</table>\n",
       "</div>"
      ],
      "text/plain": [
       "                                            Name  Episodes  Score  new_col\n",
       "Unnamed: 0                                                                \n",
       "4695                 Shounen Santa no Daibouken!      24.0    NaN      NaN\n",
       "4696                     Shounen Tokugawa Ieyasu      20.0    NaN      NaN\n",
       "4697                          Shouwang Zhengfeng      26.0    NaN      NaN\n",
       "4698        Shouwang Zhengfeng Shen Jiang Zhi Nu      26.0    NaN      NaN\n",
       "4699          Shouwang Zhengfeng: Yuanshi Zhi Li      26.0    NaN      NaN"
      ]
     },
     "execution_count": 41,
     "metadata": {},
     "output_type": "execute_result"
    }
   ],
   "source": [
    "# Just concat two datasets\n",
    "\n",
    "df_to_add = new_df.tail(1)  #lets append the last row again\n",
    "\n",
    "pd.concat([new_df,df_to_add])\n",
    "new_df.tail()"
   ]
  }
 ],
 "metadata": {
  "kaggle": {
   "accelerator": "none",
   "dataSources": [
    {
     "datasetId": 4362439,
     "sourceId": 7492475,
     "sourceType": "datasetVersion"
    }
   ],
   "dockerImageVersionId": 30635,
   "isGpuEnabled": false,
   "isInternetEnabled": true,
   "language": "python",
   "sourceType": "notebook"
  },
  "kernelspec": {
   "display_name": "Python 3",
   "language": "python",
   "name": "python3"
  },
  "language_info": {
   "codemirror_mode": {
    "name": "ipython",
    "version": 3
   },
   "file_extension": ".py",
   "mimetype": "text/x-python",
   "name": "python",
   "nbconvert_exporter": "python",
   "pygments_lexer": "ipython3",
   "version": "3.10.12"
  },
  "papermill": {
   "default_parameters": {},
   "duration": 5.747065,
   "end_time": "2024-01-28T11:08:17.333545",
   "environment_variables": {},
   "exception": null,
   "input_path": "__notebook__.ipynb",
   "output_path": "__notebook__.ipynb",
   "parameters": {},
   "start_time": "2024-01-28T11:08:11.586480",
   "version": "2.4.0"
  }
 },
 "nbformat": 4,
 "nbformat_minor": 5
}
